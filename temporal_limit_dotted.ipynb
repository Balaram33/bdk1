{
 "cells": [
  {
   "cell_type": "markdown",
   "id": "877aa0c0",
   "metadata": {},
   "source": [
    "# Starts here"
   ]
  },
  {
   "cell_type": "code",
   "execution_count": 1,
   "id": "a30fd823",
   "metadata": {},
   "outputs": [],
   "source": [
    "import pandas as pd\n",
    "import matplotlib.pyplot as plt"
   ]
  },
  {
   "cell_type": "code",
   "execution_count": 5,
   "id": "6bf9fbf5",
   "metadata": {},
   "outputs": [],
   "source": [
    "# Load the data\n",
    "excel_file_path = r'D:\\Recovered\\Recovered\\New Volume(E)\\Existing Files\\college_new_system\\Research_study\\Budyko\\work for college\\Appropriateness/temporal_limit.xlsx'\n",
    "sheet_names = ['cauvery', 'mahanadi', 'u_luni', 'pennar', 'l_luni', 'tapi', 'godavari', 'brahmani_b', 'krishna', 'narmada']\n",
    "dfs = {sheet: pd.read_excel(excel_file_path, sheet_name=sheet) for sheet in sheet_names}\n",
    " \n",
    "# Extract DataFrames for plotting\n",
    "df_l_luni = dfs['l_luni']\n",
    "df_u_luni = dfs['u_luni']\n",
    "df_pennar = dfs['pennar']\n",
    "df_cauvery = dfs['cauvery']\n",
    "df_mahanadi = dfs['mahanadi']\n",
    "df_tapi = dfs['tapi']\n",
    "df_godavari = dfs['godavari']\n",
    "df_brahmani_b = dfs['brahmani_b']\n",
    "df_krishna = dfs['krishna']\n",
    "df_narmada = dfs['narmada']"
   ]
  },
  {
   "cell_type": "code",
   "execution_count": 6,
   "id": "b0f8c889",
   "metadata": {},
   "outputs": [
    {
     "data": {
      "text/html": [
       "<div>\n",
       "<style scoped>\n",
       "    .dataframe tbody tr th:only-of-type {\n",
       "        vertical-align: middle;\n",
       "    }\n",
       "\n",
       "    .dataframe tbody tr th {\n",
       "        vertical-align: top;\n",
       "    }\n",
       "\n",
       "    .dataframe thead th {\n",
       "        text-align: right;\n",
       "    }\n",
       "</style>\n",
       "<table border=\"1\" class=\"dataframe\">\n",
       "  <thead>\n",
       "    <tr style=\"text-align: right;\">\n",
       "      <th></th>\n",
       "      <th>Year</th>\n",
       "      <th>Scenario 1</th>\n",
       "      <th>Scenario 2</th>\n",
       "      <th>Scenario 3</th>\n",
       "    </tr>\n",
       "  </thead>\n",
       "  <tbody>\n",
       "    <tr>\n",
       "      <th>0</th>\n",
       "      <td>30</td>\n",
       "      <td>0</td>\n",
       "      <td>0</td>\n",
       "      <td>0</td>\n",
       "    </tr>\n",
       "    <tr>\n",
       "      <th>1</th>\n",
       "      <td>20</td>\n",
       "      <td>0</td>\n",
       "      <td>0</td>\n",
       "      <td>0</td>\n",
       "    </tr>\n",
       "    <tr>\n",
       "      <th>2</th>\n",
       "      <td>10</td>\n",
       "      <td>0</td>\n",
       "      <td>0</td>\n",
       "      <td>0</td>\n",
       "    </tr>\n",
       "    <tr>\n",
       "      <th>3</th>\n",
       "      <td>5</td>\n",
       "      <td>0</td>\n",
       "      <td>0</td>\n",
       "      <td>0</td>\n",
       "    </tr>\n",
       "    <tr>\n",
       "      <th>4</th>\n",
       "      <td>3</td>\n",
       "      <td>0</td>\n",
       "      <td>0</td>\n",
       "      <td>3</td>\n",
       "    </tr>\n",
       "    <tr>\n",
       "      <th>5</th>\n",
       "      <td>2</td>\n",
       "      <td>0</td>\n",
       "      <td>0</td>\n",
       "      <td>4</td>\n",
       "    </tr>\n",
       "    <tr>\n",
       "      <th>6</th>\n",
       "      <td>1</td>\n",
       "      <td>1</td>\n",
       "      <td>0</td>\n",
       "      <td>9</td>\n",
       "    </tr>\n",
       "  </tbody>\n",
       "</table>\n",
       "</div>"
      ],
      "text/plain": [
       "   Year  Scenario 1  Scenario 2  Scenario 3\n",
       "0    30           0           0           0\n",
       "1    20           0           0           0\n",
       "2    10           0           0           0\n",
       "3     5           0           0           0\n",
       "4     3           0           0           3\n",
       "5     2           0           0           4\n",
       "6     1           1           0           9"
      ]
     },
     "execution_count": 6,
     "metadata": {},
     "output_type": "execute_result"
    }
   ],
   "source": [
    "df_pennar"
   ]
  },
  {
   "cell_type": "code",
   "execution_count": 7,
   "id": "7a7d840e",
   "metadata": {},
   "outputs": [
    {
     "data": {
      "image/png": "[encoded data removed]",
      "text/plain": [
       "<Figure size 400x200 with 1 Axes>"
      ]
     },
     "metadata": {},
     "output_type": "display_data"
    }
   ],
   "source": [
    "# Set up the figure and axis\n",
    "fig, ax = plt.subplots(figsize=(4, 2))\n",
    "\n",
    "spacing = 0.5\n",
    " \n",
    "# Plot dots for each scenario\n",
    "for scenario_idx, (scenario, vertical_offset) in enumerate([('Scenario 1', -spacing), ('Scenario 2', 0), ('Scenario 3', spacing)]):\n",
    "    for year_idx, year in enumerate(df_pennar['Year']):\n",
    "        value = df_pennar.loc[df_pennar['Year'] == year, scenario].values[0]\n",
    "        if value > 0:\n",
    "            color = 'red'\n",
    "            size = value * 30  # Adjust size factor for better visibility\n",
    "        else:\n",
    "            color = 'blue'\n",
    "            size = 20  # Fixed size for non-breached\n",
    "        # Plot dots with adjusted positions\n",
    "        ax.scatter(year_idx, -scenario_idx+vertical_offset, s=size, c=color, alpha=0.7, edgecolors='w')\n",
    " \n",
    "# Set labels and titles\n",
    "ax.set_xticks(range(len(df_pennar['Year'])))\n",
    "ax.set_xticklabels(df_pennar['Year'], fontsize = 12)\n",
    "ax.set_yticks([-2, -1, 0])\n",
    "ax.set_yticklabels(['S3', 'S2', 'S1'], fontsize = 12)\n",
    "ax.set_xlabel('Moving Window (Years)', fontsize = 15)\n",
    "ax.set_ylabel('Scenarios', fontsize = 15)\n",
    "ax.set_title('Pennar')\n",
    "\n",
    "# Adjust layout and show plot\n",
    "plt.tight_layout()\n",
    "plt.savefig(r'D:/PRB_temporal_limit_dots.jpeg', dpi=330)\n",
    "plt.show()"
   ]
  },
  {
   "cell_type": "code",
   "execution_count": null,
   "id": "e7ff2a92",
   "metadata": {},
   "outputs": [],
   "source": []
  },
  {
   "cell_type": "code",
   "execution_count": null,
   "id": "d65dc7bb",
   "metadata": {},
   "outputs": [],
   "source": []
  }
 ],
 "metadata": {
  "kernelspec": {
   "display_name": "Python 3 (ipykernel)",
   "language": "python",
   "name": "python3"
  },
  "language_info": {
   "codemirror_mode": {
    "name": "ipython",
    "version": 3
   },
   "file_extension": ".py",
   "mimetype": "text/x-python",
   "name": "python",
   "nbconvert_exporter": "python",
   "pygments_lexer": "ipython3",
   "version": "3.12.4"
  }
 },
 "nbformat": 4,
 "nbformat_minor": 5
}
